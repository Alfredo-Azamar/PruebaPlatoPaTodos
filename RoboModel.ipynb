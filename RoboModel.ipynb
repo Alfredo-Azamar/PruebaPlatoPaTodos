{
 "cells": [
  {
   "cell_type": "raw",
   "id": "185e210d-40ea-4b8c-96c7-dc549707dc2d",
   "metadata": {},
   "source": [
    "Imports necessary libraries for the code functionality"
   ]
  },
  {
   "cell_type": "code",
   "execution_count": 77,
   "id": "33cbf339-26dd-49d0-a717-31195710c70f",
   "metadata": {},
   "outputs": [],
   "source": [
    "from mesa import Agent, Model \n",
    "from mesa.time import RandomActivation\n",
    "from mesa.space import MultiGrid \n",
    "#from mesa.datacollection import DataCollector \n",
    "from mesa.visualization.modules import CanvasGrid, ChartModule\n",
    "from mesa.experimental import JupyterViz\n",
    "\n",
    "import solara\n",
    "from matplotlib.figure import Figure\n",
    "import seaborn as sns\n",
    "import matplotlib.pyplot as plt\n",
    "import pandas as pd\n",
    "\n",
    "import random\n",
    "import time"
   ]
  },
  {
   "cell_type": "raw",
   "id": "5c338273-9524-4081-bde5-6f1fc36db308",
   "metadata": {},
   "source": [
    "Define the desired agents"
   ]
  },
  {
   "cell_type": "code",
   "execution_count": 78,
   "id": "d225db98-aae4-40c5-95f3-0a4d0df12db0",
   "metadata": {},
   "outputs": [],
   "source": [
    "class RobotAgent(Agent):\n",
    "    def __init__(self, unique_id, model):\n",
    "        super().__init__(unique_id, model)\n",
    "        self.steps = 0\n",
    "\n",
    "    def move(self):\n",
    "        possible_moves = self.model.grid.get_neighborhood(\n",
    "            self.pos, \n",
    "            moore=True, \n",
    "            include_center=False)\n",
    "        new_position = self.random.choice(possible_moves)\n",
    "        self.model.grid.move_agent(self, new_position)\n",
    "\n",
    "    def step(self):\n",
    "        self.steps += 1\n",
    "        cell_contents = self.model.grid.get_cell_list_contents([self.pos])\n",
    "        dirty_cell = next((agent for agent in cell_contents if isinstance(agent, DirtyCellAgent)), None)\n",
    "\n",
    "        if dirty_cell:\n",
    "            self.model.grid.remove_agent(dirty_cell)\n",
    "            self.model.dirty_cells -= 1\n",
    "        else:\n",
    "            self.move()\n",
    "\n",
    "class DirtyCellAgent(Agent):\n",
    "    def __init__(self, unique_id, model):\n",
    "        super().__init__(unique_id, model)\n",
    "\n",
    "    def step(self):\n",
    "        pass"
   ]
  },
  {
   "cell_type": "raw",
   "id": "2e16b12b-4768-4184-9117-2a5fc132b09f",
   "metadata": {},
   "source": [
    "Define the model"
   ]
  },
  {
   "cell_type": "code",
   "execution_count": 79,
   "id": "77e0e8db-1032-48bc-b025-39490e3e6768",
   "metadata": {},
   "outputs": [],
   "source": [
    "class CleanerModel(Model):\n",
    "    def __init__(self, width, height, num_agents, dirt_percentage, max_steps):\n",
    "        self.num_agents = num_agents\n",
    "        self.schedule = RandomActivation(self)\n",
    "        self.grid = MultiGrid(width, height, False)\n",
    "        self.max_steps = max_steps\n",
    "        self.steps = 0\n",
    "        self.running = True\n",
    "\n",
    "        num_dirty_cells = int((dirt_percentage / 100) * (width * height))\n",
    "        self.dirty_cells = num_dirty_cells\n",
    "\n",
    "        for i in range(self.num_agents):\n",
    "            agent = RobotAgent(i, self)\n",
    "            self.schedule.add(agent)\n",
    "            x = 1\n",
    "            y = 1\n",
    "            self.grid.place_agent(agent, (x, y))\n",
    "\n",
    "        for i in range(num_dirty_cells):\n",
    "            dirty_cell = DirtyCellAgent(self.num_agents + i, self)\n",
    "            self.schedule.add(dirty_cell)\n",
    "            x, y = random.choice(list(self.grid.empties))\n",
    "            self.grid.place_agent(dirty_cell, (x, y))\n",
    "\n",
    "    def step(self):\n",
    "        self.schedule.step()\n",
    "        self.steps += 1\n",
    "        if self.steps >= self.max_steps or self.dirty_cells == 0:\n",
    "            self.running = False"
   ]
  },
  {
   "cell_type": "raw",
   "id": "d857ecc9-3ef9-412a-8587-51a076e345eb",
   "metadata": {},
   "source": [
    "Define measures"
   ]
  },
  {
   "cell_type": "code",
   "execution_count": 90,
   "id": "4747cd41-8af3-4860-bac7-bcc1f396dd8d",
   "metadata": {},
   "outputs": [],
   "source": [
    "def make_agent_counts_chart(model):\n",
    "    fig = Figure()\n",
    "    ax = fig.subplots()\n",
    "    num_cleaners = sum(1 for agent in model.schedule.agents if isinstance(agent, RobotAgent))\n",
    "    dirty_cells = [model.dirty_cells] * model.schedule.steps\n",
    "    data = {'Steps': model.schedule.steps, 'Number of Cleaners': [num_cleaners] * model.schedule.steps, 'Dirty Cells': dirty_cells}\n",
    "    df = pd.DataFrame(data)\n",
    "    sns.lineplot(x='Steps', y='Number of Cleaners', data=df, label='Number of Cleaners', ax=ax, marker= 'o')\n",
    "    sns.lineplot(x='Steps', y='Dirty Cells', data=df, label='Dirty Cells', ax=ax, marker= 'o')\n",
    "    ax.set_xlabel('Steps')\n",
    "    ax.set_ylabel('Count')\n",
    "    ax.legend()\n",
    "    return solara.FigureMatplotlib(fig)\n",
    "\n",
    "def make_cleaning_efficiency_chart(model):\n",
    "    fig = Figure()\n",
    "    ax = fig.subplots()\n",
    "    total_cells = model.grid.width * model.grid.height\n",
    "    cleaned_cells = total_cells - model.dirty_cells\n",
    "    cleaning_efficiency = cleaned_cells / total_cells\n",
    "    data = {'Steps': model.schedule.steps, 'Cleaning Efficiency': [cleaning_efficiency] * model.schedule.steps}\n",
    "    df = pd.DataFrame(data)\n",
    "    sns.lineplot(x='Steps', y='Cleaning Efficiency', data=df, label='Cleaning Efficiency', ax=ax, marker='o')\n",
    "    ax.set_xlabel('Steps')\n",
    "    ax.set_ylabel('Cleaning Efficiency')\n",
    "    ax.legend()\n",
    "    return solara.FigureMatplotlib(fig)"
   ]
  },
  {
   "cell_type": "raw",
   "id": "4c0d4e3b-3b2c-4876-8b98-7d79f56d1906",
   "metadata": {},
   "source": [
    "Define portrayals for agent representation and initialize visualization"
   ]
  },
  {
   "cell_type": "code",
   "execution_count": 91,
   "id": "2799529a-7c40-4c0a-8eae-b009f15ca330",
   "metadata": {},
   "outputs": [
    {
     "data": {
      "application/vnd.jupyter.widget-view+json": {
       "model_id": "fb221a4af38848298b4706cf437bd353",
       "version_major": 2,
       "version_minor": 0
      },
      "text/html": [
       "Cannot show widget. You probably want to rerun the code cell above (<i>Click in the code cell, and press Shift+Enter <kbd>⇧</kbd>+<kbd>↩</kbd></i>)."
      ],
      "text/plain": [
       "Cannot show ipywidgets in text"
      ]
     },
     "metadata": {},
     "output_type": "display_data"
    }
   ],
   "source": [
    "def my_agent_portrayal(agent):\n",
    "    if isinstance(agent, DirtyCellAgent):\n",
    "        return {\n",
    "            \"color\": \"tab:red\",\n",
    "            \"size\": 50\n",
    "        }\n",
    "    elif isinstance(agent, RobotAgent):\n",
    "        return {\n",
    "            \"color\": \"tab:blue\",\n",
    "            \"size\": 50 \n",
    "        } \n",
    "\n",
    "model_params = {\n",
    "    \"width\": 10,\n",
    "    \"height\": 10,\n",
    "    \"num_agents\": {\n",
    "        \"type\": \"SliderInt\",\n",
    "        \"value\": 50,\n",
    "        \"label\": \"Number of Cleaner Robots:\",\n",
    "        \"min\": 10,\n",
    "        \"max\": 100,\n",
    "        \"step\": 1\n",
    "    },\n",
    "    \"dirt_percentage\": {\n",
    "        \"type\": \"SliderInt\",\n",
    "        \"value\": 20,\n",
    "        \"label\": \"Percentage of dirty cells:\",\n",
    "        \"min\": 10,\n",
    "        \"max\": 100,\n",
    "        \"step\": 1\n",
    "    },\n",
    "    \"max_steps\": {\n",
    "        \"type\": \"SliderInt\",\n",
    "        \"value\": 100,\n",
    "        \"label\": \"Maximum number of steps:\",\n",
    "        \"min\": 10,\n",
    "        \"max\": 1000,\n",
    "        \"step\": 1\n",
    "    }\n",
    "}\n",
    "\n",
    "page = JupyterViz(\n",
    "    CleanerModel,\n",
    "    model_params,\n",
    "    measures = [make_cleaning_efficiency_chart,\n",
    "               make_agent_counts_chart],\n",
    "    name=\"Cleaner Model\",\n",
    "    agent_portrayal = my_agent_portrayal\n",
    ")\n",
    "\n",
    "page"
   ]
  }
 ],
 "metadata": {
  "kernelspec": {
   "display_name": "Python 3 (ipykernel)",
   "language": "python",
   "name": "python3"
  },
  "language_info": {
   "codemirror_mode": {
    "name": "ipython",
    "version": 3
   },
   "file_extension": ".py",
   "mimetype": "text/x-python",
   "name": "python",
   "nbconvert_exporter": "python",
   "pygments_lexer": "ipython3",
   "version": "3.11.5"
  }
 },
 "nbformat": 4,
 "nbformat_minor": 5
}
